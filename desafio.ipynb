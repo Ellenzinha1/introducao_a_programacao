{
  "nbformat": 4,
  "nbformat_minor": 0,
  "metadata": {
    "colab": {
      "provenance": [],
      "authorship_tag": "ABX9TyPsIz5lhZELAUz+uO+mCW/x",
      "include_colab_link": true
    },
    "kernelspec": {
      "name": "python3",
      "display_name": "Python 3"
    },
    "language_info": {
      "name": "python"
    }
  },
  "cells": [
    {
      "cell_type": "markdown",
      "metadata": {
        "id": "view-in-github",
        "colab_type": "text"
      },
      "source": [
        "<a href=\"https://colab.research.google.com/github/Ellenzinha1/introducao_a_programacao/blob/main/desafio.ipynb\" target=\"_parent\"><img src=\"https://colab.research.google.com/assets/colab-badge.svg\" alt=\"Open In Colab\"/></a>"
      ]
    },
    {
      "cell_type": "code",
      "execution_count": null,
      "metadata": {
        "id": "-2ttydSp0xR1"
      },
      "outputs": [],
      "source": [
        "import json\n",
        "\n",
        "alunos = []\n",
        "contador = 1\n",
        "aprovados = 0\n",
        "reprovados = 0\n",
        "recuperacao = 0\n",
        "vaiExportar = 3\n",
        "print(\"alunos_cadastros___________________________\")\n",
        "while contador != 0:\n",
        "  contador = int(input(\"Se deseja se cadastrar escreva 1 para sim 0 para nao\"))\n",
        "  if contador == 1:\n",
        "    nome = input(\"Digite o nome do aluno\")\n",
        "    nota = float(input(\"Digite a nota aqui:\"))\n",
        "    alunos.append({\"nome\": nome, \"nota\": nota})\n",
        "print(\"classificacao dos alunos________________________\")\n",
        "for index, aluno in enumerate(alunos):\n",
        "  if aluno[\"nota\"] >= 7:\n",
        "    aprovados += 1\n",
        "    alunos[index][\"status\"] = \"aprovado\"\n",
        "    continue\n",
        "  elif aluno[\"nota\"] >= 5 and aluno[\"nota\"] <= 6 :\n",
        "    recuperacao += 1\n",
        "    alunos[index][\"status\"] = \"recuperacao\"\n",
        "    continue\n",
        "  else :\n",
        "    reprovados += 1\n",
        "    alunos[index][\"status\"] = \"reprovados\"\n",
        "print(\"Total de alunos reprovados\" + str(reprovados))\n",
        "print(\"Total de alnuos em recuperacao\" + str(recuperacao))\n",
        "print(\"Total de alunos aprovados\" + str(aprovados))\n",
        "\n",
        "\n",
        "print(\"listaaa_____________\")\n",
        "for aluno in alunos:\n",
        "  print(\"Nome: \" + aluno[\"nome\"] + \" - Nota: \" + str(aluno[\"nota\"]) + \" - Status: \" + aluno[\"status\"])\n",
        "\n",
        "while vaiExportar != 1 and vaiExportar != 0:\n",
        "  vaiExportar = int(input(\"Deseja exportar a lista como .json? 1 sim, 0 não\"))\n",
        "\n",
        "if vaiExportar == 1:\n",
        "  with open(\"alunos.json\", \"w\", encoding=\"utf-8\") as arquivo:\n",
        "    json.dump(alunos, arquivo, ensure_ascii=False, indent=4)"
      ]
    }
  ]
}