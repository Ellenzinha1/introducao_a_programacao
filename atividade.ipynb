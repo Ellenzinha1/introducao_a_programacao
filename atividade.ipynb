{
  "nbformat": 4,
  "nbformat_minor": 0,
  "metadata": {
    "colab": {
      "provenance": [],
      "authorship_tag": "ABX9TyMHC24VpK44Qa2fEgw7No/f",
      "include_colab_link": true
    },
    "kernelspec": {
      "name": "python3",
      "display_name": "Python 3"
    },
    "language_info": {
      "name": "python"
    }
  },
  "cells": [
    {
      "cell_type": "markdown",
      "metadata": {
        "id": "view-in-github",
        "colab_type": "text"
      },
      "source": [
        "<a href=\"https://colab.research.google.com/github/Ellenzinha1/introducao_a_programacao/blob/main/atividade.ipynb\" target=\"_parent\"><img src=\"https://colab.research.google.com/assets/colab-badge.svg\" alt=\"Open In Colab\"/></a>"
      ]
    },
    {
      "cell_type": "code",
      "source": [
        "idade = float(input(\"digite a sua media\"))\n",
        "\n",
        "if idade >= 65:\n",
        "  print(\"idoso\")\n",
        "elif idade <= 64 and idade >= 18:\n",
        "  print(\"adulto\")\n",
        "elif idade <= 17 and idade >= 13:\n",
        "  print(\"adolescente\")\n",
        "else:\n",
        "  print(\"criancinha\")"
      ],
      "metadata": {
        "id": "lJiKneh-yTLP"
      },
      "execution_count": null,
      "outputs": []
    },
    {
      "cell_type": "code",
      "source": [
        "media = float(input(\"digite a sua media\"))\n",
        "\n",
        "if media >= 9:\n",
        "  print(\"aprovadissimo\")\n",
        "elif media >= 7 and temp <= 7:\n",
        "  print(\"aprovado\")\n",
        "else:\n",
        "  print(\"reprovou\")"
      ],
      "metadata": {
        "colab": {
          "base_uri": "https://localhost:8080/"
        },
        "id": "v90JbOw7yVXp",
        "outputId": "53b4cb30-5984-4eab-e109-c38f1f3109a9"
      },
      "execution_count": null,
      "outputs": [
        {
          "output_type": "stream",
          "name": "stdout",
          "text": [
            "digite a sua media6\n",
            "reprovou\n"
          ]
        }
      ]
    },
    {
      "cell_type": "code",
      "source": [
        "numero = int(input(\"Digite um número: \"))\n",
        "if numero % 2 == 0 and numero % 3 == 0:\n",
        "    print(f\"O número {numero} é múltiplo de 2 e de 3 ao mesmo tempo.\")\n",
        "else:\n",
        "    print(f\"O número {numero} NÃO é múltiplo de 2 e de 3 ao mesmo tempo.\")"
      ],
      "metadata": {
        "id": "R5NZPmlaxpLS"
      },
      "execution_count": null,
      "outputs": []
    },
    {
      "cell_type": "code",
      "source": [
        "nome = input(\"insira seu nome\")\n",
        "senha = input(\"insira seu nome\")\n",
        "\n",
        "if nome == \"admin\" and senha == \"1234\":\n",
        "  print(\"bem vindo\")\n",
        "else:\n",
        "  print(\"nome ou senha incorretos\")"
      ],
      "metadata": {
        "colab": {
          "base_uri": "https://localhost:8080/"
        },
        "id": "IRoA7h7VwL6C",
        "outputId": "8345a73c-c5fb-4573-ad60-53d9306ccadf"
      },
      "execution_count": null,
      "outputs": [
        {
          "output_type": "stream",
          "name": "stdout",
          "text": [
            "insira seu nomerola\n",
            "insira seu nome34\n",
            "nome ou senha incorretos\n"
          ]
        }
      ]
    },
    {
      "cell_type": "code",
      "source": [
        "valor1 = float(input(\"Digite o primeiro valor: \"))\n",
        "valor2 = float(input(\"Digite o segundo valor: \"))\n",
        "\n",
        "print(\"iguais = \" ,valor1 == valor2)\n",
        "print(\"diferentes =\", valor1 != valor2)\n",
        "print(\"maior=\" ,valor1 > valor2)\n",
        "print(\"menor=\" ,valor1 < valor2)"
      ],
      "metadata": {
        "colab": {
          "base_uri": "https://localhost:8080/"
        },
        "id": "bk_Upwm3ukNH",
        "outputId": "1241bf5c-947e-46b4-921b-2545a6beaf9a"
      },
      "execution_count": null,
      "outputs": [
        {
          "output_type": "stream",
          "name": "stdout",
          "text": [
            "Digite o primeiro valor: 3\n",
            "Digite o segundo valor: 2\n",
            "iguais =  False\n",
            "diferentes = True\n",
            "maior= True\n",
            "menor= False\n"
          ]
        }
      ]
    },
    {
      "cell_type": "code",
      "source": [
        "nascimento = int(input(\"digite seu ano de nascimento\"))\n",
        "\n",
        "if nascimento >= 18:\n",
        "  print(\"maior de idade\")\n",
        "else:\n",
        "  print(\"menor de idade\")"
      ],
      "metadata": {
        "colab": {
          "base_uri": "https://localhost:8080/"
        },
        "id": "VPyWbwAwuJLe",
        "outputId": "05cc58af-eee0-4f38-c663-59b69fe68210"
      },
      "execution_count": null,
      "outputs": [
        {
          "output_type": "stream",
          "name": "stdout",
          "text": [
            "digite seu ano de nascimento2007\n",
            "maior de idade\n"
          ]
        }
      ]
    },
    {
      "cell_type": "code",
      "source": [
        "temp = float(input(\"digite a temperatura\"))\n",
        "\n",
        "if temp <= 15:\n",
        "  print(\"esta frio\")\n",
        "elif temp >15 and temp <= 22:\n",
        "  print(\"esta agradavel\")\n",
        "else:\n",
        "  print(\"esta quente\")"
      ],
      "metadata": {
        "colab": {
          "base_uri": "https://localhost:8080/"
        },
        "id": "Si2cN8_Srj6x",
        "outputId": "ff5ad2ba-f7a5-4f35-edeb-3cd2ecf282af"
      },
      "execution_count": null,
      "outputs": [
        {
          "output_type": "stream",
          "name": "stdout",
          "text": [
            "digite a temperatura6\n",
            "esta frio\n"
          ]
        }
      ]
    },
    {
      "cell_type": "code",
      "source": [
        "voto = int(input(\"digite sua idade\"))\n",
        "\n",
        "if voto >= 16:\n",
        "  print(\"pode votar\")\n",
        "else :\n",
        "  print(\"nao pode votar\")"
      ],
      "metadata": {
        "colab": {
          "base_uri": "https://localhost:8080/"
        },
        "id": "bDNPGdENrofp",
        "outputId": "4a00c4ea-4e4e-4ff2-c3b8-5defd81f23e9"
      },
      "execution_count": null,
      "outputs": [
        {
          "output_type": "stream",
          "name": "stdout",
          "text": [
            "digite sua idade78\n",
            "pode votar\n"
          ]
        }
      ]
    },
    {
      "cell_type": "code",
      "source": [
        "aluno = float(input(\"insira sua nota\"))\n",
        "\n",
        "if aluno >= 7:\n",
        "  print(\"aprovado\")\n",
        "else:\n",
        "  print(\"reprovado\")"
      ],
      "metadata": {
        "colab": {
          "base_uri": "https://localhost:8080/"
        },
        "id": "Y6yDugKhqdW4",
        "outputId": "6bbbb2ad-d749-49c4-86df-1e5877916f01"
      },
      "execution_count": null,
      "outputs": [
        {
          "output_type": "stream",
          "name": "stdout",
          "text": [
            "insira sua nota7\n",
            "aprovado\n"
          ]
        }
      ]
    },
    {
      "cell_type": "code",
      "source": [
        "valor1 = float(input(\"Digite o primeiro valor: \"))\n",
        "valor2 = float(input(\"Digite o segundo valor: \"))\n",
        "\n",
        "print(\"soma = \" ,valor1 + valor2)\n",
        "print(\"subtracao =\"  ,valor1 - valor2)\n",
        "print(\"multiplicacao =\" ,valor1 * valor2)\n",
        "print(\"divisao3=\" ,valor1 / valor2)"
      ],
      "metadata": {
        "colab": {
          "base_uri": "https://localhost:8080/"
        },
        "id": "4da5s2G_pBMy",
        "outputId": "c715e3cb-bea3-4144-d2ec-ed3f05e17a61"
      },
      "execution_count": null,
      "outputs": [
        {
          "output_type": "stream",
          "name": "stdout",
          "text": [
            "Digite o primeiro valor: 3\n",
            "Digite o segundo valor: 3\n",
            "soma =  6.0\n",
            "subtracao = 0.0\n",
            "multiplicacao = 9.0\n",
            "divisao= 1.0\n"
          ]
        }
      ]
    },
    {
      "cell_type": "code",
      "source": [
        "valor = int(input(\"digite um numero\"))\n",
        "\n",
        "if valor == 100:\n",
        "  print(\"seu valor é igual a 100\")\n",
        "else:\n",
        "  print(\"seu valor nao é igual a 100\")\n"
      ],
      "metadata": {
        "colab": {
          "base_uri": "https://localhost:8080/"
        },
        "id": "B9ZDxtjNoG-v",
        "outputId": "3bf9ff9f-a11b-4ac9-d79a-d19114c5a491"
      },
      "execution_count": null,
      "outputs": [
        {
          "output_type": "stream",
          "name": "stdout",
          "text": [
            "digite um numero40\n",
            "seu valor nao é igual a 100\n"
          ]
        }
      ]
    },
    {
      "cell_type": "code",
      "source": [
        "numero = int(input(\"insira seu numero\"))\n",
        "\n",
        "print(\"antecessor\", numero -1)\n",
        "print(\"sucessor\", numero +1)"
      ],
      "metadata": {
        "colab": {
          "base_uri": "https://localhost:8080/"
        },
        "id": "ZFFCCqp6m7j1",
        "outputId": "e9bc8c42-a003-470f-878a-dbfd74469cf9"
      },
      "execution_count": null,
      "outputs": [
        {
          "output_type": "stream",
          "name": "stdout",
          "text": [
            "insira seu numero5\n",
            "antecessor 4\n",
            "sucessor 6\n"
          ]
        }
      ]
    },
    {
      "cell_type": "code",
      "source": [
        "quantidade_desejada = int(input(\"insira a quantidade desejada\"))\n",
        "preco= float(input(\"insira o preco\"))\n",
        "\n",
        "total = (quantidade_desejada * preco)\n",
        "\n",
        "print(\"o valor a pagar é\", total)"
      ],
      "metadata": {
        "colab": {
          "base_uri": "https://localhost:8080/"
        },
        "id": "f_HUC6m5k_P9",
        "outputId": "ea3a672d-a7d8-4ab1-b79b-2228f3ff75a6"
      },
      "execution_count": null,
      "outputs": [
        {
          "output_type": "stream",
          "name": "stdout",
          "text": [
            "insira a quantidade desejada4\n",
            "insira o preco3\n",
            "o valor a pagar é 12.0\n"
          ]
        }
      ]
    },
    {
      "cell_type": "code",
      "source": [
        "diasT = int(input(\"quantos dias voce trabalha ?\"))\n",
        "\n",
        "trabalhados = (diasT * 120)\n",
        "\n",
        "print(\"seu salario é \", trabalhados)"
      ],
      "metadata": {
        "colab": {
          "base_uri": "https://localhost:8080/"
        },
        "id": "5tHCSoe-kbs5",
        "outputId": "e173a637-b02b-4db3-9c66-1513ba8ac432"
      },
      "execution_count": null,
      "outputs": [
        {
          "output_type": "stream",
          "name": "stdout",
          "text": [
            "quantos dias voce trabalha ?6\n",
            "seu salario é  720\n"
          ]
        }
      ]
    },
    {
      "cell_type": "code",
      "source": [
        "idade = int(input(\"digite sua idade\"))\n",
        "\n",
        "if idade >= 18:\n",
        "  print(\"maior de idade\")\n",
        "else :\n",
        "  print(\"menor de idade\")\n"
      ],
      "metadata": {
        "colab": {
          "base_uri": "https://localhost:8080/"
        },
        "id": "_2vQGYpWjkzv",
        "outputId": "e36d56a1-fba4-4136-e383-950cd20162d5"
      },
      "execution_count": null,
      "outputs": [
        {
          "output_type": "stream",
          "name": "stdout",
          "text": [
            "digite sua idade7\n",
            "menor de idade\n"
          ]
        }
      ]
    },
    {
      "cell_type": "code",
      "source": [
        "Reais = float(input(\"digite o valor em REAL\"))\n",
        "\n",
        "dolar = (Reais * 5.00 )\n",
        "\n",
        "print(\"o valor em $ \", dolar)"
      ],
      "metadata": {
        "colab": {
          "base_uri": "https://localhost:8080/"
        },
        "id": "oXgzKeYRipLa",
        "outputId": "a91805bd-ce8f-483e-cab7-1075346cd67b"
      },
      "execution_count": null,
      "outputs": [
        {
          "output_type": "stream",
          "name": "stdout",
          "text": [
            "digite o valor em REAL7\n",
            "o valor em $  35.0\n"
          ]
        }
      ]
    },
    {
      "cell_type": "code",
      "source": [
        "num1 = float(input(\"digite seu valor \"))\n",
        "\n",
        "convercao = (num1 * 100)\n",
        "\n",
        "print(\"o cm é igual a \", convercao)"
      ],
      "metadata": {
        "colab": {
          "base_uri": "https://localhost:8080/"
        },
        "id": "ZOrsT04hg_qW",
        "outputId": "a72feb1f-4b92-417e-aa73-1c069b9bdc44"
      },
      "execution_count": null,
      "outputs": [
        {
          "output_type": "stream",
          "name": "stdout",
          "text": [
            "digite seu valor 6\n",
            "o cm é igual a  600.0\n"
          ]
        }
      ]
    },
    {
      "cell_type": "code",
      "source": [
        "num1 = int(input(\"digite seu primeiro numero\"))\n",
        "num2 = int(input(\"digite seu segundo numero\"))\n",
        "\n",
        "multipilicacao = (num1 * num2)\n",
        "\n",
        "print(\"seu valor final é\", multipilicacao)"
      ],
      "metadata": {
        "colab": {
          "base_uri": "https://localhost:8080/"
        },
        "id": "oO4VMMDWgU5F",
        "outputId": "eb15cade-ab58-417d-a10e-25f6df300bd3"
      },
      "execution_count": null,
      "outputs": [
        {
          "output_type": "stream",
          "name": "stdout",
          "text": [
            "digite seu primeiro numero5\n",
            "digite seu segundo numero5\n",
            "seu valor final é 25\n"
          ]
        }
      ]
    },
    {
      "cell_type": "code",
      "source": [
        "nome = input(\"digite seu nome\")\n",
        "print(\"Olá\", nome, \" boa noite\")"
      ],
      "metadata": {
        "colab": {
          "base_uri": "https://localhost:8080/"
        },
        "id": "DesMuWDhfxUT",
        "outputId": "82a82fa9-e919-4288-d8cc-0caf9a881a7d"
      },
      "execution_count": null,
      "outputs": [
        {
          "output_type": "stream",
          "name": "stdout",
          "text": [
            "digite seu nomecu\n",
            "Olá cu  boa noite\n"
          ]
        }
      ]
    },
    {
      "cell_type": "code",
      "source": [
        "val1 = int(input(\"digite um valor\"))\n",
        "val2 = int(input(\"digite outro valor\"))\n",
        "\n",
        "soma_int = int(val1 + val2)\n",
        "soma_flo = float(val1 + val2)\n",
        "\n",
        "if soma_int == soma_flo:\n",
        "  print(\"a soma é igual\")\n",
        "else:\n",
        "  print(\"a soma é diferente\")"
      ],
      "metadata": {
        "id": "P7YqMP67dbqK"
      },
      "execution_count": null,
      "outputs": []
    },
    {
      "cell_type": "code",
      "source": [
        "valor1 = True\n",
        "valor2 = False\n",
        "\n",
        "if valor1 and valor2 == False:\n",
        "  print(\"sao iguais\")\n",
        "else:\n",
        "  print(\"sao diferentes\")\n"
      ],
      "metadata": {
        "colab": {
          "base_uri": "https://localhost:8080/"
        },
        "id": "GDyNi0o4b2vn",
        "outputId": "b57ca4ef-b4a6-48bc-c02c-1cc14aa41796"
      },
      "execution_count": null,
      "outputs": [
        {
          "output_type": "stream",
          "name": "stdout",
          "text": [
            "sao iguais\n"
          ]
        }
      ]
    },
    {
      "cell_type": "code",
      "source": [
        "numero_I = input(\"Digite seu numero\")\n",
        "numero_F = float(numero_I)\n",
        "print(\"o seu numero convertido é\" , numero_F)"
      ],
      "metadata": {
        "id": "ecvQZFOltv0-",
        "colab": {
          "base_uri": "https://localhost:8080/"
        },
        "outputId": "e8c1ed43-0085-42f9-b3a8-8d33846878ec"
      },
      "execution_count": null,
      "outputs": [
        {
          "output_type": "stream",
          "name": "stdout",
          "text": [
            "Digite seu numero5\n",
            "o seu numero convertido é 5.0\n"
          ]
        }
      ]
    },
    {
      "cell_type": "code",
      "source": [
        "caracteres = str(input(\"insira um texto\"))\n",
        "print(\"o texto tem \",len(caracteres))\n"
      ],
      "metadata": {
        "colab": {
          "base_uri": "https://localhost:8080/"
        },
        "id": "HF6qbCS7rE5I",
        "outputId": "4c4cb593-f28c-44dd-dc5c-1e00dcae8bb3"
      },
      "execution_count": null,
      "outputs": [
        {
          "output_type": "stream",
          "name": "stdout",
          "text": [
            "insira um textooiiii\n",
            "o texto tem  5\n"
          ]
        }
      ]
    },
    {
      "cell_type": "code",
      "source": [
        "numero = input(\"Digite um número: \")\n",
        "\n",
        "if '.' in numero:\n",
        "    print(f\"Tem {len(numero.split('.')[1])} casas decimais.\")\n",
        "else:\n",
        "    print(\"Tem 0 casas decimais.\")\n"
      ],
      "metadata": {
        "colab": {
          "base_uri": "https://localhost:8080/"
        },
        "id": "7KsMScExqGgs",
        "outputId": "a55a3d12-5f25-4357-ed4a-cc244fb0774f"
      },
      "execution_count": null,
      "outputs": [
        {
          "output_type": "stream",
          "name": "stdout",
          "text": [
            "Digite um número: 0000.5\n",
            "Tem 1 casas decimais.\n"
          ]
        }
      ]
    },
    {
      "cell_type": "code",
      "source": [
        "nome = str(input(\"Digite seu nome :\"))\n",
        "idade = int(input(\"Digite sua idade :\"))\n",
        "altura = float(input(\"Digite sua altura :\"))\n",
        "\n",
        "print(f\"seu nome é:\", nome)\n",
        "print(f\"sua idade é:\", idade)\n",
        "print(f\"sua altura é:\", altura)"
      ],
      "metadata": {
        "colab": {
          "base_uri": "https://localhost:8080/"
        },
        "id": "J2E7tatioVlT",
        "outputId": "bd7303b2-b93c-48be-f60e-fa804aae9eec"
      },
      "execution_count": null,
      "outputs": [
        {
          "output_type": "stream",
          "name": "stdout",
          "text": [
            "Digite seu nome :ellen\n",
            "Digite sua idade :5\n",
            "Digite sua altura :170\n",
            "seu nome é: ellen\n",
            "sua idade é: 5\n",
            "sua altura é: 170.0\n"
          ]
        }
      ]
    },
    {
      "cell_type": "code",
      "source": [
        "valor_bool = True\n",
        "valor_convertido = str(valor_bool)\n",
        "print(f\"o valor convertido é:\", valor_convertido)\n"
      ],
      "metadata": {
        "colab": {
          "base_uri": "https://localhost:8080/"
        },
        "id": "6cKAk0m3mQZZ",
        "outputId": "de10a568-dd21-41b1-f360-b2dc1f0e70d6"
      },
      "execution_count": null,
      "outputs": [
        {
          "output_type": "stream",
          "name": "stdout",
          "text": [
            "o valor convertido é: True\n"
          ]
        }
      ]
    },
    {
      "cell_type": "code",
      "source": [
        "numero_str = input(\"digite um numero\")\n",
        "numero_float = float(numero_str)\n",
        "\n",
        "print(f\"O numero como decimal é :\",numero_float)"
      ],
      "metadata": {
        "colab": {
          "base_uri": "https://localhost:8080/"
        },
        "id": "AbefDPwBlBxf",
        "outputId": "d8162e71-c864-47a5-e23e-09cf87fb5b0a"
      },
      "execution_count": null,
      "outputs": [
        {
          "output_type": "stream",
          "name": "stdout",
          "text": [
            "digite um numero10\n",
            "O numero como decimal é : 10.0\n"
          ]
        }
      ]
    },
    {
      "cell_type": "code",
      "source": [
        "numero_str = input(\"Digite um número: \")\n",
        "numero_int = int(numero_str)\n",
        "\n",
        "print(f\"O número como inteiro é: {numero_int}\")"
      ],
      "metadata": {
        "id": "IRqREaI5g0ID"
      },
      "execution_count": null,
      "outputs": []
    },
    {
      "cell_type": "code",
      "source": [
        "numeroI = int(\"2\")\n",
        "numeroF = float(\"2.6\")\n",
        "tru = bool(\"true\")\n",
        "Conjunto_letras = str(\"tudo que fica dentro das aspas\")\n",
        "\n",
        "print(f\"Numero inteiro {numeroI}\")\n",
        "print(f\"Numero Float {numeroF}\")\n",
        "print(f\"isbool {tru}\")\n",
        "print(f\"str {Conjunto_letras}\")\n"
      ],
      "metadata": {
        "colab": {
          "base_uri": "https://localhost:8080/"
        },
        "id": "HVPTVd-ce_tD",
        "outputId": "cd80c780-ffe3-4ae0-de19-0da5fac7a067"
      },
      "execution_count": null,
      "outputs": [
        {
          "output_type": "stream",
          "name": "stdout",
          "text": [
            "Numero inteiro 2\n",
            "Numero Float 2.6\n",
            "isbool True\n",
            "str tudo que fica dentro das aspas\n"
          ]
        }
      ]
    },
    {
      "cell_type": "code",
      "source": [
        "str1 = input(\"Digite a primeira string: \")\n",
        "str2 = input(\"Digite a segunda string: \")\n",
        "if str1 != str2:\n",
        "    print(\"As strings são diferentes!\")\n",
        "else:\n",
        "    print(\"As strings são iguais!\")"
      ],
      "metadata": {
        "id": "eKkIhWAc10J-"
      },
      "execution_count": null,
      "outputs": []
    },
    {
      "cell_type": "code",
      "source": [
        "num = float(input(\"Digite um número: \"))\n",
        "\n",
        "if num < 10 or num > 50:\n",
        "    print(\"O número é menor que 10 ou maior que 50.\")\n",
        "else:\n",
        "    print(\"O número está entre 10 e 50.\")"
      ],
      "metadata": {
        "id": "E6Xvd4vs4cgc"
      },
      "execution_count": null,
      "outputs": []
    },
    {
      "cell_type": "code",
      "source": [
        "idade = int(input(\"Quantos anos você tem? \"))\n",
        "\n",
        "\n",
        "tem_cnh = input(\"Você possui CNH? (s/n) \").strip().lower()\n",
        "\n",
        "\n",
        "if idade >= 18 and tem_cnh == 's':\n",
        "    print(\"Você pode dirigir!\")\n",
        "elif idade >= 18:\n",
        "    print(\"Você tem idade para dirigir, mas precisa da CNH.\")\n",
        "else:\n",
        "    print(\"Você não pode dirigir, pois tem menos de 18 anos.\")\n"
      ],
      "metadata": {
        "id": "iyDi1TTo1kOP"
      },
      "execution_count": null,
      "outputs": []
    },
    {
      "cell_type": "code",
      "source": [
        "senha1 = input(\"digite a primeira senha: \")\n",
        "senha2 = input(\"digite a segunda senha: \")\n",
        "\n",
        "if senha1 == senha2:\n",
        "  print(\"As senhas sao iguais\")\n",
        "else :\n",
        "   print(\"As senhas são diferentes!\")''"
      ],
      "metadata": {
        "colab": {
          "base_uri": "https://localhost:8080/"
        },
        "id": "oDYDUZ5Q0R__",
        "outputId": "e413196e-f054-484c-c3e4-f2b0646f00fd"
      },
      "execution_count": null,
      "outputs": [
        {
          "output_type": "stream",
          "name": "stdout",
          "text": [
            "digite a primeira senha: 1234\n",
            "digite a segunda senha: 1234\n",
            "As senhas sao iguais\n"
          ]
        }
      ]
    },
    {
      "cell_type": "code",
      "source": [
        "num= int(input(\"Digite o numero :\"))\n",
        "\n",
        "if num <= 0 and idade >= 100 :\n",
        "  print(\"fora do intervalo\")\n",
        "else :\n",
        "  print(\"esta no intervalo\")"
      ],
      "metadata": {
        "colab": {
          "base_uri": "https://localhost:8080/"
        },
        "id": "2dh25vyiy3iy",
        "outputId": "6a9391ab-db8b-4b7b-c283-5527468804fb"
      },
      "execution_count": null,
      "outputs": [
        {
          "output_type": "stream",
          "name": "stdout",
          "text": [
            "Digite o numero :200\n",
            "esta no intervalo\n"
          ]
        }
      ]
    },
    {
      "cell_type": "code",
      "source": [
        "num = int(input(\"Digite o valor:\"))\n",
        "\n",
        "if num != 0 :\n",
        "  print(\"o valor nao e igual a 0\")\n",
        "else :\n",
        "  print(\"o valor e igual a 0\")"
      ],
      "metadata": {
        "colab": {
          "base_uri": "https://localhost:8080/"
        },
        "id": "CVB7KeO-xZX7",
        "outputId": "d23b77e9-1bfd-4fc1-c41b-c4adf9853cd3"
      },
      "execution_count": null,
      "outputs": [
        {
          "output_type": "stream",
          "name": "stdout",
          "text": [
            "Digite o valor:4\n",
            "o valor nao e igual a 0\n"
          ]
        }
      ]
    },
    {
      "cell_type": "code",
      "source": [
        "num = int(input(\"Digite um número: \"))\n",
        "\n",
        "if num % 3 == 0 and num % 5 == 0:\n",
        "    print(\"O número é múltiplo de 3 e de 5.\")\n",
        "elif num % 3 == 0:\n",
        "    print(\"O número é múltiplo de 3.\")\n",
        "elif num % 5 == 0:\n",
        "    print(\"O número é múltiplo de 5.\")\n",
        "else:\n",
        "    print(\"O número não é múltiplo de 3 nem de 5.\")"
      ],
      "metadata": {
        "colab": {
          "base_uri": "https://localhost:8080/"
        },
        "id": "kgyY6BQZvWIV",
        "outputId": "67052c09-c884-49d3-a0a6-9571446bbfad"
      },
      "execution_count": null,
      "outputs": [
        {
          "output_type": "stream",
          "name": "stdout",
          "text": [
            "Digite um número: 5\n",
            "O número é múltiplo de 5.\n"
          ]
        }
      ]
    },
    {
      "cell_type": "code",
      "source": [
        "idade = int(input(\"Digite sua idade :\"))\n",
        "\n",
        "if idade >= 17 and idade <= 60 :\n",
        "  print(\"Voce e de maior\")"
      ],
      "metadata": {
        "colab": {
          "base_uri": "https://localhost:8080/"
        },
        "id": "Zz_Zn4Bqvabd",
        "outputId": "edf69d93-f9eb-408e-860e-872a8748430b"
      },
      "execution_count": null,
      "outputs": [
        {
          "output_type": "stream",
          "name": "stdout",
          "text": [
            "Digite sua idade :60\n",
            "Voce e de maior\n"
          ]
        }
      ]
    },
    {
      "cell_type": "code",
      "source": [
        "numero = int(input(\"Insira o numero : \"))\n",
        "\n",
        "if numero > 0 and numero % 2 == 0:\n",
        "  print(\"O número é positivo e par.\")\n",
        "else:\n",
        "   print(\"O número é negativo.\")\n"
      ],
      "metadata": {
        "colab": {
          "base_uri": "https://localhost:8080/"
        },
        "id": "rY_AjFcjtrf9",
        "outputId": "7e477d1b-5c1d-41a2-8d9c-73e31bd4313f"
      },
      "execution_count": null,
      "outputs": [
        {
          "output_type": "stream",
          "name": "stdout",
          "text": [
            "Insira o numero : -6\n",
            "O número é negativo.\n"
          ]
        }
      ]
    },
    {
      "cell_type": "code",
      "source": [
        "n1= int(input(\"Digite o primeiro numero :\"))\n",
        "n2= int(input(\"Digite o segundo numero :\"))\n",
        "\n",
        "if n1 > n2 :\n",
        "  print(\"O n1 é maior que o n2\")\n",
        "else :\n",
        "   print(\"O n1 é menor que o n2\")\n",
        "\n"
      ],
      "metadata": {
        "colab": {
          "base_uri": "https://localhost:8080/"
        },
        "id": "mGSkON7Xq6mk",
        "outputId": "5ac0371f-18f7-44e3-84ff-917e5d5d94cb"
      },
      "execution_count": null,
      "outputs": [
        {
          "output_type": "stream",
          "name": "stdout",
          "text": [
            "Digite o primeiro numero :9\n",
            "Digite o segundo numero :5\n",
            "O n1 é maior que o n2\n"
          ]
        }
      ]
    },
    {
      "cell_type": "code",
      "source": [
        "produto = float(input(\"Digite o valor do produto : \"))\n",
        "\n",
        "desconto = produto * (10 / 100)\n",
        "valor_final = produto - desconto\n",
        "\n",
        "print(f\"O valor final do produto é: {valor_final} R$ :\")\n"
      ],
      "metadata": {
        "colab": {
          "base_uri": "https://localhost:8080/"
        },
        "id": "21cy2f5in85U",
        "outputId": "fe1ac6e8-fab6-48aa-c74f-db0025e715ad"
      },
      "execution_count": null,
      "outputs": [
        {
          "output_type": "stream",
          "name": "stdout",
          "text": [
            "Digite o valor do produto : 100\n",
            "O valor final do produto é: 90.0 R$ :\n"
          ]
        }
      ]
    },
    {
      "cell_type": "code",
      "source": [
        "def calcular_area_triangulo(base, altura):\n",
        "    return (base * altura) / 2\n",
        "\n",
        "base = float(input(\"Digite a base do triângulo: \"))\n",
        "altura = float(input(\"Digite a altura do triângulo: \"))\n",
        "\n",
        "area = calcular_area_triangulo(base, altura)\n",
        "\n",
        "print(f\"A área do triângulo é: {area}\")"
      ],
      "metadata": {
        "colab": {
          "base_uri": "https://localhost:8080/"
        },
        "id": "Tbrg0P9_ym4n",
        "outputId": "55e33615-6eaa-4456-ed6c-437c243d2c24"
      },
      "execution_count": null,
      "outputs": [
        {
          "output_type": "stream",
          "name": "stdout",
          "text": [
            "Digite a base do triângulo: 6\n",
            "Digite a altura do triângulo: 7\n",
            "A área do triângulo é: 21.0\n"
          ]
        }
      ]
    },
    {
      "cell_type": "code",
      "source": [
        "num1 = float(input(\"Digite o primeiro numero\"))\n",
        "num2= float(input(\"Digite o segundo numero\"))\n",
        "\n",
        "resultado = (num1 + num2) ** 2\n",
        "\n",
        "print(f\"A elevacao ao quadrado de {num1} e {num2} é {resultado}\")"
      ],
      "metadata": {
        "colab": {
          "base_uri": "https://localhost:8080/"
        },
        "id": "OFhQc5V5zzHP",
        "outputId": "dd8234bc-95c8-45d6-cb2c-980d04e26451"
      },
      "execution_count": null,
      "outputs": [
        {
          "output_type": "stream",
          "name": "stdout",
          "text": [
            "Digite o primeiro numero5\n",
            "Digite o segundo numero5\n",
            "A elevacao ao quadrado de 5.0 e 5.0 é 100.0\n"
          ]
        }
      ]
    },
    {
      "cell_type": "code",
      "source": [
        "num1 = float(input(\"Digite o primeiro numero\"))\n",
        "\n",
        "quadrado = num1 ** 2\n",
        "\n",
        "print(f\"A elevacao ao quadrado de {num1} é {quadrado}\")"
      ],
      "metadata": {
        "colab": {
          "base_uri": "https://localhost:8080/"
        },
        "id": "ku1xiehhyQIH",
        "outputId": "ae891d46-4c22-46f2-94e1-50646bb395e8"
      },
      "execution_count": null,
      "outputs": [
        {
          "output_type": "stream",
          "name": "stdout",
          "text": [
            "Digite o primeiro numero3\n",
            "A elevacao ao quadrado de 3.0 é 9.0\n"
          ]
        }
      ]
    },
    {
      "cell_type": "code",
      "source": [
        "num1 = float(input(\"Digite o primeiro numero\"))\n",
        "num2 = float(input(\"Digite o segundo numero\"))\n",
        "num3 = float(input(\"Digite o terceiro numero\"))\n",
        "\n",
        "calculo = num1 + num2 + num3 / 3\n",
        "\n",
        "print(f\"A media aritmetica de {num1} e {num2} e {num3} é {calculo}\")"
      ],
      "metadata": {
        "colab": {
          "base_uri": "https://localhost:8080/"
        },
        "id": "DOdKH3w7witv",
        "outputId": "a60c62bc-3fa8-4d33-be8f-246fc3f87ff0"
      },
      "execution_count": null,
      "outputs": [
        {
          "output_type": "stream",
          "name": "stdout",
          "text": [
            "Digite o primeiro numero5\n",
            "Digite o segundo numero5\n",
            "Digite o terceiro numero7\n",
            "A media aritmetica de 5.0 e 5.0 e 7.0 é 12.333333333333334\n"
          ]
        }
      ]
    },
    {
      "cell_type": "code",
      "source": [
        "num1 = float(input(\"Digite o primeiro numero\"))\n",
        "num2 = float(input(\"Digite o segundo numero\"))\n",
        "\n",
        "divisao = num1 / num2\n",
        "\n",
        "print(f\"A divisao de {num1} e {num2} é {divisao}\")"
      ],
      "metadata": {
        "colab": {
          "base_uri": "https://localhost:8080/"
        },
        "id": "5CkA44I4vOjF",
        "outputId": "ece27414-b30e-4ebb-fbf1-68b74b3ea2b5"
      },
      "execution_count": null,
      "outputs": [
        {
          "output_type": "stream",
          "name": "stdout",
          "text": [
            "Digite o primeiro numero5\n",
            "Digite o segundo numero5\n",
            "A divisao de 5.0 e 5.0 é 1.0\n"
          ]
        }
      ]
    },
    {
      "cell_type": "code",
      "source": [
        "num1 = float(input(\"Digite o primeiro numero\"))\n",
        "num2 = float(input(\"Digite o segundo numero\"))\n",
        "\n",
        "multiplicacao = num1 * num2\n",
        "\n",
        "print(f\"A multiplicacao de {num1} e {num2} é {multiplicacao}\")"
      ],
      "metadata": {
        "colab": {
          "base_uri": "https://localhost:8080/"
        },
        "id": "GI8e6IdFufkD",
        "outputId": "7434db61-c4be-411f-befd-458150399ab2"
      },
      "execution_count": null,
      "outputs": [
        {
          "output_type": "stream",
          "name": "stdout",
          "text": [
            "Digite o primeiro numero5\n",
            "Digite o segundo numero5\n",
            "a multiplicacao de 5.0 e 5.0 é 25.0\n"
          ]
        }
      ]
    },
    {
      "cell_type": "code",
      "source": [
        "num1 = float(input(\"Digite o primeiro numero\"))\n",
        "num2 = float(input(\"Digite o segundo numero\"))\n",
        "\n",
        "subtracao = num1 - num2\n",
        "\n",
        "print(f\"A subtracao de {num1} e {num2} é {subtracao}\")"
      ],
      "metadata": {
        "colab": {
          "base_uri": "https://localhost:8080/"
        },
        "id": "yuU18qjNtX5e",
        "outputId": "7607ad1d-fd42-4add-998f-52f328864939"
      },
      "execution_count": null,
      "outputs": [
        {
          "output_type": "stream",
          "name": "stdout",
          "text": [
            "Digite o primeiro numero4\n",
            "Digite o segundo numero6\n",
            "A subtracao de 4.0 e 6.0 é -2.0\n"
          ]
        }
      ]
    },
    {
      "cell_type": "code",
      "source": [
        "num1 = int(input(\"Digite o primeiro numero inteiro\"))\n",
        "num2 = int(input(\"Digite o segundo numero inteiro\"))\n",
        "\n",
        "soma = num1 + num2\n",
        "\n",
        "\n",
        "print(f\"A soma de {num1} e {num2} é {soma} \")\n"
      ],
      "metadata": {
        "colab": {
          "base_uri": "https://localhost:8080/"
        },
        "id": "V7JiCZPxqg1j",
        "outputId": "03656162-5f2a-4bda-cd3a-114036f24254"
      },
      "execution_count": null,
      "outputs": [
        {
          "output_type": "stream",
          "name": "stdout",
          "text": [
            "Digite o primeiro numero inteiro6\n",
            "Digite o segundo numero inteiro6\n",
            "A soma de 6 e 6 e 12 \n"
          ]
        }
      ]
    },
    {
      "cell_type": "code",
      "source": [
        "num1 = float(input(\"Digite o primeiro numero: \"))\n",
        "num2 = float(input(\"Digite o segundo numero: \"))\n",
        "num3 = float(input(\"Digite o terceiro numero: \"))\n",
        "\n",
        "maior = max(num1, num2, num3)\n",
        "menor = min(num1, num2, num3)\n",
        "media = (num1+ num2+ num3 ) / 3\n",
        "\n",
        "print(f\"O numero maior é : {maior}\")\n",
        "print(f\"O numero menor é : {menor}\")\n",
        "print(f\"A media dos numeros é : {media}\")"
      ],
      "metadata": {
        "colab": {
          "base_uri": "https://localhost:8080/"
        },
        "id": "rGRz-PDlZbI2",
        "outputId": "a284b38e-4ebb-46d8-a5c3-1366e9fb9cbf"
      },
      "execution_count": null,
      "outputs": [
        {
          "output_type": "stream",
          "name": "stdout",
          "text": [
            "Digite o primeiro numero: 5\n",
            "Digite o segundo numero: 5\n",
            "Digite o terceiro numero: 6\n",
            "O numero maior é : 6.0\n",
            "O numero menor é : 5.0\n",
            "A media dos numeros é : 5.333333333333333\n"
          ]
        }
      ]
    },
    {
      "cell_type": "code",
      "source": [
        "numero_usuario = int(input(\"Digite um numero\"))\n",
        "\n",
        "if numero_usuario % 2 == 0 :\n",
        "\n",
        "  print(f\"O numero {numero_usuario} é par. \")\n",
        "else :\n",
        "    print(f\"O numero {numero_usuario} é ímpar. \")"
      ],
      "metadata": {
        "colab": {
          "base_uri": "https://localhost:8080/"
        },
        "id": "yLBH8PS_RB8i",
        "outputId": "8c92f4d7-6131-452c-e7ce-b09bb063b4f8"
      },
      "execution_count": null,
      "outputs": [
        {
          "output_type": "stream",
          "name": "stdout",
          "text": [
            "Digite um numero5\n",
            "O numero 5 é ímpar. \n"
          ]
        }
      ]
    },
    {
      "cell_type": "code",
      "source": [
        "nome = (input(\"Digite seu nome : \"))\n",
        "endereco = (input(\"Digite seu endereco : \"))\n",
        "telefone =  (input(\"Digite seu telefone : \"))\n",
        "\n",
        "print(\"seu nome é : \" + nome)\n",
        "print(\"seu endreco é : \" + endereco)\n",
        "print(\"seu telefone é : \" + telefone)"
      ],
      "metadata": {
        "colab": {
          "base_uri": "https://localhost:8080/"
        },
        "id": "E1_mjNNYKtkG",
        "outputId": "828dd076-10c2-4313-e92f-9c52fd728360"
      },
      "execution_count": null,
      "outputs": [
        {
          "output_type": "stream",
          "name": "stdout",
          "text": [
            "Digite seu nome : oi\n",
            "Digite seu endereco : oi\n",
            "Digite seu telefone : oi\n",
            "seu nome é : oi\n",
            "seu endreco é : oi\n",
            "seu telefone é : oi\n"
          ]
        }
      ]
    },
    {
      "cell_type": "code",
      "source": [
        "mercadoria = float(input(\"Digite o valor da mercadoria :\"))\n",
        "percentual_desconto = float(input(\"Digite o valor do desconto :\"))\n",
        "\n",
        "desconto = mercadoria * (percentual_desconto / 100)\n",
        "valor_final = mercadoria - desconto\n",
        "\n",
        "print(f\"valor final: R$ {valor_final:.2f}\")\n",
        "print(f\"desconto: R$ {desconto:.2f}\")"
      ],
      "metadata": {
        "colab": {
          "base_uri": "https://localhost:8080/"
        },
        "id": "tn7Jv-gGwXqW",
        "outputId": "d5dd8ecf-8c21-49b1-9f50-f5585a6f264e"
      },
      "execution_count": null,
      "outputs": [
        {
          "output_type": "stream",
          "name": "stdout",
          "text": [
            "Digite o valor da mercadoria :500\n",
            "Digite o valor do desconto :34\n",
            "valor final: R$ 330.00\n",
            "desconto: R$ 170.00\n"
          ]
        }
      ]
    },
    {
      "cell_type": "code",
      "source": [
        "salario = float(input(\"Digite o valor do salario:\"))\n",
        "porcentagem_aumento = float(input(\"Digite a porcentagem :\"))\n",
        "\n",
        "aumento = salario * (porcentagem_aumento / 100)\n",
        "novo_salario = salario + aumento\n",
        "\n",
        "print(f\"aumento: R$ {aumento:.2f}\")\n",
        "print(f\"novo_salario: R$ {novo_salario:.2f}\")"
      ],
      "metadata": {
        "colab": {
          "base_uri": "https://localhost:8080/"
        },
        "id": "stZtHvGuy5tF",
        "outputId": "738689f9-cb69-42f0-f49f-dca0420911c7"
      },
      "execution_count": null,
      "outputs": [
        {
          "output_type": "stream",
          "name": "stdout",
          "text": [
            "Digite o valor do salario:100\n",
            "Digite a porcentagem :10\n",
            "aumento: R$ 10.00\n",
            "novo_salario: R$ 110.00\n"
          ]
        }
      ]
    },
    {
      "cell_type": "code",
      "source": [
        "metros = float(input(\"Digite o valor dos metros: \"))\n",
        "\n",
        "milimetros = metros * 1000\n",
        "\n",
        "print(f\"{metros} metros é igual a {milimetros} milímetros.\")"
      ],
      "metadata": {
        "colab": {
          "base_uri": "https://localhost:8080/"
        },
        "id": "X7g4szk7u2ir",
        "outputId": "1216bc64-31bf-487b-b752-c3a9c45af692"
      },
      "execution_count": null,
      "outputs": [
        {
          "output_type": "stream",
          "name": "stdout",
          "text": [
            "Digite o valor dos metros: 40\n",
            "40.0 metros é igual a 40000.0 milímetros.\n"
          ]
        }
      ]
    },
    {
      "cell_type": "code",
      "source": [
        "salario = 750.00\n",
        "percentual_aumento = 15\n",
        "\n",
        "aumento = salario * (percentual_aumento / 100)\n",
        "\n",
        "salario_final = salario + aumento\n",
        "\n",
        "print(f\"Aumento: R$ {aumento:.2f}\")\n",
        "print(f\"Salário final: R$ {salario_final:.2f}\")"
      ],
      "metadata": {
        "colab": {
          "base_uri": "https://localhost:8080/"
        },
        "id": "L9dao1PGr4D8",
        "outputId": "d38b5f1d-ed1f-413e-d4b9-0551ea9a7a55"
      },
      "execution_count": null,
      "outputs": [
        {
          "output_type": "stream",
          "name": "stdout",
          "text": [
            "Aumento: R$ 112.50\n",
            "Salário final: R$ 862.50\n"
          ]
        }
      ]
    },
    {
      "cell_type": "code",
      "source": [
        "e = 1\n",
        "l = 2\n",
        "n = 3\n",
        "\n",
        "resultado = e + l + n\n",
        "\n",
        "print(\"O resultado de e + l + n é:\",resultado)"
      ],
      "metadata": {
        "colab": {
          "base_uri": "https://localhost:8080/"
        },
        "id": "xS7gDS4hqq9i",
        "outputId": "dd67f9b0-e2da-4a83-caa0-353b2d9579c8"
      },
      "execution_count": null,
      "outputs": [
        {
          "output_type": "stream",
          "name": "stdout",
          "text": [
            "O resultado de e + l + n é: 6\n"
          ]
        }
      ]
    },
    {
      "cell_type": "code",
      "source": [
        "a = 3\n",
        "b = 5\n",
        "\n",
        "resultado = 2 * a * 3 * b\n",
        "\n",
        "print(\"O resultado de 2 * a * 3 * b é :\", resultado)"
      ],
      "metadata": {
        "colab": {
          "base_uri": "https://localhost:8080/"
        },
        "id": "mHnDXZQMo6Sb",
        "outputId": "a279f7b3-fc84-4d2a-bd04-602a9e1c1417"
      },
      "execution_count": null,
      "outputs": [
        {
          "output_type": "stream",
          "name": "stdout",
          "text": [
            "O resultado de 2 * a * 3 * b é : 90\n"
          ]
        }
      ]
    },
    {
      "cell_type": "code",
      "execution_count": null,
      "metadata": {
        "colab": {
          "base_uri": "https://localhost:8080/"
        },
        "id": "AB7CAGQaodVq",
        "outputId": "07a92586-648e-4bf7-eb4e-b741e70ac131"
      },
      "outputs": [
        {
          "output_type": "stream",
          "name": "stdout",
          "text": [
            "Ellen \n"
          ]
        }
      ],
      "source": [
        "print(\"Ellen \")"
      ]
    }
  ]
}