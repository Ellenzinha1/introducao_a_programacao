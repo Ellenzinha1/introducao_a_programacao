{
  "nbformat": 4,
  "nbformat_minor": 0,
  "metadata": {
    "colab": {
      "provenance": [],
      "authorship_tag": "ABX9TyOPTmTtVvLn0Id7H+bvF658",
      "include_colab_link": true
    },
    "kernelspec": {
      "name": "python3",
      "display_name": "Python 3"
    },
    "language_info": {
      "name": "python"
    }
  },
  "cells": [
    {
      "cell_type": "markdown",
      "metadata": {
        "id": "view-in-github",
        "colab_type": "text"
      },
      "source": [
        "<a href=\"https://colab.research.google.com/github/Ellenzinha1/introducao_a_programacao/blob/main/aula1.ipynb\" target=\"_parent\"><img src=\"https://colab.research.google.com/assets/colab-badge.svg\" alt=\"Open In Colab\"/></a>"
      ]
    },
    {
      "cell_type": "code",
      "source": [
        "salario = float(input(\"Digite o valor do salario:\"))\n",
        "porcentagem_aumento = float(input(\"Digite a porcentagem :\"))\n",
        "\n",
        "aumento = salario * (porcentagem_aumento / 100)\n",
        "novo_salario = salario + aumento\n",
        "\n",
        "print(f\"aumento: R$ {aumento:.2f}\")\n",
        "print(f\"novo_salario: R$ {novo_salario:.2f}\")"
      ],
      "metadata": {
        "colab": {
          "base_uri": "https://localhost:8080/"
        },
        "id": "stZtHvGuy5tF",
        "outputId": "738689f9-cb69-42f0-f49f-dca0420911c7"
      },
      "execution_count": 16,
      "outputs": [
        {
          "output_type": "stream",
          "name": "stdout",
          "text": [
            "Digite o valor do salario:100\n",
            "Digite a porcentagem :10\n",
            "aumento: R$ 10.00\n",
            "novo_salario: R$ 110.00\n"
          ]
        }
      ]
    },
    {
      "cell_type": "code",
      "source": [
        "mercadoria = float(input(\"Digite o valor da mercadoria :\"))\n",
        "percentual_desconto = float(input(\"Digite o valor do desconto :\"))\n",
        "\n",
        "desconto = mercadoria * (percentual_desconto / 100)\n",
        "valor_final = mercadoria - desconto\n",
        "\n",
        "print(f\"valor final: R$ {valor_final:.2f}\")\n",
        "print(f\"desconto: R$ {desconto:.2f}\")"
      ],
      "metadata": {
        "colab": {
          "base_uri": "https://localhost:8080/"
        },
        "id": "tn7Jv-gGwXqW",
        "outputId": "d5dd8ecf-8c21-49b1-9f50-f5585a6f264e"
      },
      "execution_count": 14,
      "outputs": [
        {
          "output_type": "stream",
          "name": "stdout",
          "text": [
            "Digite o valor da mercadoria :500\n",
            "Digite o valor do desconto :34\n",
            "valor final: R$ 330.00\n",
            "desconto: R$ 170.00\n"
          ]
        }
      ]
    },
    {
      "cell_type": "code",
      "source": [
        "metros = float(input(\"Digite o valor dos metros: \"))\n",
        "\n",
        "milimetros = metros * 1000\n",
        "\n",
        "print(f\"{metros} metros é igual a {milimetros} milímetros.\")"
      ],
      "metadata": {
        "colab": {
          "base_uri": "https://localhost:8080/"
        },
        "id": "X7g4szk7u2ir",
        "outputId": "087d16da-f955-4bd4-f88b-ae8cf67221ee"
      },
      "execution_count": 10,
      "outputs": [
        {
          "output_type": "stream",
          "name": "stdout",
          "text": [
            "Digite o valor dos metros: 10\n",
            "10.0 metros é igual a 10000.0 milímetros.\n"
          ]
        }
      ]
    },
    {
      "cell_type": "code",
      "source": [
        "salario = 750.00\n",
        "percentual_aumento = 15\n",
        "\n",
        "aumento = salario * (percentual_aumento / 100)\n",
        "\n",
        "salario_final = salario + aumento\n",
        "\n",
        "print(f\"Aumento: R$ {aumento:.2f}\")\n",
        "print(f\"Salário final: R$ {salario_final:.2f}\")"
      ],
      "metadata": {
        "colab": {
          "base_uri": "https://localhost:8080/"
        },
        "id": "L9dao1PGr4D8",
        "outputId": "74402b21-7167-405f-ab27-749104b036bf"
      },
      "execution_count": 9,
      "outputs": [
        {
          "output_type": "stream",
          "name": "stdout",
          "text": [
            "Aumento: R$ 112.50\n",
            "Salário final: R$ 862.50\n"
          ]
        }
      ]
    },
    {
      "cell_type": "code",
      "source": [
        "e = 1\n",
        "l = 2\n",
        "n = 3\n",
        "\n",
        "resultado = e + l + n\n",
        "\n",
        "print(\"O resultado de e + l + n é:\",resultado)"
      ],
      "metadata": {
        "colab": {
          "base_uri": "https://localhost:8080/"
        },
        "id": "xS7gDS4hqq9i",
        "outputId": "dd67f9b0-e2da-4a83-caa0-353b2d9579c8"
      },
      "execution_count": 7,
      "outputs": [
        {
          "output_type": "stream",
          "name": "stdout",
          "text": [
            "O resultado de e + l + n é: 6\n"
          ]
        }
      ]
    },
    {
      "cell_type": "code",
      "source": [
        "a = 3\n",
        "b = 5\n",
        "\n",
        "resultado = 2 * a * 3 * b\n",
        "\n",
        "print(\"O resultado de 2 * a * 3 * b é :\", resultado)"
      ],
      "metadata": {
        "colab": {
          "base_uri": "https://localhost:8080/"
        },
        "id": "mHnDXZQMo6Sb",
        "outputId": "446813bf-a160-40f7-8723-6667155de567"
      },
      "execution_count": 5,
      "outputs": [
        {
          "output_type": "stream",
          "name": "stdout",
          "text": [
            "O resultado de 2 * a * 3 * b é : 90\n"
          ]
        }
      ]
    },
    {
      "cell_type": "code",
      "execution_count": 1,
      "metadata": {
        "colab": {
          "base_uri": "https://localhost:8080/"
        },
        "id": "AB7CAGQaodVq",
        "outputId": "cd3286ba-47d2-4c8f-cf19-bc006e7c0cd4"
      },
      "outputs": [
        {
          "output_type": "stream",
          "name": "stdout",
          "text": [
            "Ellen \n"
          ]
        }
      ],
      "source": [
        "print(\"Ellen \")"
      ]
    }
  ]
}